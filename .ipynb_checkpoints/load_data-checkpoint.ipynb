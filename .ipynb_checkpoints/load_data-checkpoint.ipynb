{
 "cells": [
  {
   "cell_type": "code",
   "execution_count": 1,
   "metadata": {
    "collapsed": true
   },
   "outputs": [],
   "source": [
    "import pandas as pd\n",
    "import xlrd"
   ]
  },
  {
   "cell_type": "code",
   "execution_count": 2,
   "metadata": {
    "collapsed": true
   },
   "outputs": [],
   "source": [
    "\"\"\"\n",
    "Load datasets of all projects funded by the European Union for research and technological development under the:\n",
    "- FP4: fourth framework programme (1994-1998)\n",
    "- FP5: fifth framework programme (1998–2002)\n",
    "- FP6: sixth framework programme (2002–2006)\n",
    "- FP7: seventh framework programme (2007–2013)\n",
    "- H2020: Horizon 2020 framework programme (2014-2020)\n",
    "\"\"\"\n",
    "\n",
    "xlsxFP4 = pd.ExcelFile(\"dataset/cordisfp4projectscomplete.xls\")\n",
    "xlsxFP5 = pd.ExcelFile(\"dataset/cordis-fp5projects.xlsx\")\n",
    "xlsxFP6 = pd.ExcelFile(\"dataset/cordis-fp6projects.xlsx\")\n",
    "xlsxFP7 = pd.ExcelFile(\"dataset/cordis-fp7projects.xlsx\")\n",
    "xlsxH2020 = pd.ExcelFile(\"dataset/cordis-h2020projects.xlsx\")"
   ]
  },
  {
   "cell_type": "code",
   "execution_count": 3,
   "metadata": {
    "collapsed": true
   },
   "outputs": [],
   "source": [
    "dataFP4 = xlsxFP4.parse()\n",
    "dataFP5 = xlsxFP5.parse()\n",
    "dataFP6 = xlsxFP6.parse()\n",
    "dataFP7 = xlsxFP7.parse()\n",
    "dataH2020 = xlsxH2020.parse()"
   ]
  },
  {
   "cell_type": "code",
   "execution_count": null,
   "metadata": {
    "collapsed": true
   },
   "outputs": [],
   "source": [
    "dataH2020"
   ]
  }
 ],
 "metadata": {
  "kernelspec": {
   "display_name": "Python 2",
   "language": "python",
   "name": "python2"
  },
  "language_info": {
   "codemirror_mode": {
    "name": "ipython",
    "version": 2
   },
   "file_extension": ".py",
   "mimetype": "text/x-python",
   "name": "python",
   "nbconvert_exporter": "python",
   "pygments_lexer": "ipython2",
   "version": "2.7.6"
  }
 },
 "nbformat": 4,
 "nbformat_minor": 1
}
