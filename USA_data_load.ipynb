{
 "cells": [
  {
   "cell_type": "markdown",
   "metadata": {},
   "source": [
    "<h3>Projects funded from USA (NSF)</h3>\n",
    "\n",
    "<p>The National Science Foundation (NSF) funds research and education in science and engineering, through grants, contracts, and cooperative agreements. The Foundation accounts for about 20 percent of federal support to academic institutions for basic research. \n",
    "\n",
    "Information about research projects that NSF has funded since 1989 can be found by searching the Award Abstracts database (https://www.nsf.gov/awardsearch/download.jsp). The information includes abstracts that describe the research, and names of principal investigators and their institutions. The database includes both completed and in-process research.</p>"
   ]
  },
  {
   "cell_type": "markdown",
   "metadata": {},
   "source": [
    "<p>We will use all the provided information from 1994 till 2017 (259106 awards). The dataset consists of .zip folders for each year, with .xml files for each award.</p>"
   ]
  },
  {
   "cell_type": "code",
   "execution_count": 1,
   "metadata": {
    "collapsed": false
   },
   "outputs": [],
   "source": [
    "import os\n",
    "import zipfile\n",
    "import cjson\n",
    "import pandas as pd\n",
    "import numpy as np\n",
    "import xmltodict, json\n",
    "import pickle"
   ]
  },
  {
   "cell_type": "markdown",
   "metadata": {},
   "source": [
    "<p>First, we unzip each folder and then for each file of the folder, we convert the xml file to a dictionary with:\n",
    "<ul>\n",
    "<li>key: the file name/award id (ex. 9601223)</li>\n",
    "<li>value: the actual content of the xml file in JSON format</li>\n",
    "</ul></p>"
   ]
  },
  {
   "cell_type": "code",
   "execution_count": 2,
   "metadata": {
    "collapsed": false
   },
   "outputs": [],
   "source": [
    "from xml.dom.minidom import parse\n",
    "\n",
    "filenames = os.listdir('USA_data')\n",
    "\n",
    "raw_text = {}\n",
    "\n",
    "for zipfilename in filenames:\n",
    "    with zipfile.ZipFile('USA_data/'+zipfilename) as z:\n",
    "        for filename in z.namelist():\n",
    "            if not os.path.isdir(filename):\n",
    "                try:\n",
    "                    with z.open(filename) as f:\n",
    "                        raw_text[filename[:-4]] = json.dumps(xmltodict.parse(f))\n",
    "                except:\n",
    "                    print filename\n",
    "                    pass"
   ]
  },
  {
   "cell_type": "markdown",
   "metadata": {},
   "source": [
    "<p>For each award/key of our dictionary, we create a new dictionary to keep the values that we'll use later on the analysis:\n",
    "<ul>\n",
    "<li>id: the award id</li>\n",
    "<li>title: the award title</li>\n",
    "<li>objective: the abstract narration of the award</li>\n",
    "<li>state: the code of the state</li>\n",
    "<li>subjects: information provided from 'Program Reference' and 'Program Element' values</li>\n",
    "<li>foa: FoaInformation</li>\n",
    "</ul>\n",
    "<br>\n",
    "Then, we append each dictionary to a list.\n",
    "</p>"
   ]
  },
  {
   "cell_type": "code",
   "execution_count": 3,
   "metadata": {
    "collapsed": false
   },
   "outputs": [],
   "source": [
    "usa_fp4 = []\n",
    "usa_fp5 = []\n",
    "usa_fp6 = []\n",
    "usa_fp7 = []\n",
    "usa_h2020 = []\n",
    "\n",
    "for key, val in raw_text.items():\n",
    "    usa_dict = {}\n",
    "\n",
    "    value = cjson.decode(val)\n",
    "    new_val = value['rootTag']['Award']\n",
    "\n",
    "    usa_dict['id'] = new_val['AwardID']\n",
    "    usa_dict['title'] = new_val['AwardTitle']\n",
    "    usa_dict['objective'] = new_val['AbstractNarration']\n",
    "    usa_dict['state'] = new_val['Institution']['StateCode']\n",
    "    \n",
    "    if key[:2] in ['94', '95', '96', '97']:\n",
    "        usa_dict['framework_programme'] = 'FP4'\n",
    "    elif key[:2] in ['98', '99', '00', '01']:\n",
    "        usa_dict['framework_programme'] = 'FP5'\n",
    "    elif key[:2] in ['02', '03', '04', '05', '06']:\n",
    "        usa_dict['framework_programme'] = 'FP6'\n",
    "    elif key[:2] in ['07', '08', '09', '10', '11', '12', '13']:\n",
    "        usa_dict['framework_programme'] = 'FP7'\n",
    "    else:\n",
    "        usa_dict['framework_programme'] = 'H2020'\n",
    "    \n",
    "    try:\n",
    "        if type(new_val['ProgramReference']) is dict:\n",
    "            usa_dict['subjects'] = new_val['ProgramElement']['Text'] + new_val['ProgramReference']['Text']\n",
    "        elif type(new_val['ProgramReference']) is list:\n",
    "            text = ''\n",
    "            for i in new_val['ProgramReference']:\n",
    "                text = text + ' ' + i['Text']\n",
    "\n",
    "            usa_dict['subjects'] = text\n",
    "        else:\n",
    "            pass\n",
    "    except:\n",
    "        pass\n",
    "\n",
    "\n",
    "    try:\n",
    "        if type(new_val['FoaInformation']) is dict:\n",
    "            usa_dict['foa'] = new_val['FoaInformation']['Name']\n",
    "        elif type(new_val['FoaInformation']) is list:\n",
    "            text = ''\n",
    "            for i in new_val['FoaInformation']:\n",
    "                text = text + ' ' + i['Name']\n",
    "\n",
    "            usa_dict['foa'] = text\n",
    "        else:\n",
    "            pass\n",
    "    except:\n",
    "        pass\n",
    "    \n",
    "    if usa_dict['framework_programme'] == 'FP4':\n",
    "        usa_fp4.append(usa_dict)\n",
    "    elif usa_dict['framework_programme'] == 'FP5':\n",
    "        usa_fp5.append(usa_dict)\n",
    "    elif usa_dict['framework_programme'] == 'FP6':\n",
    "        usa_fp6.append(usa_dict)\n",
    "    elif usa_dict['framework_programme'] == 'FP7':\n",
    "        usa_fp7.append(usa_dict)\n",
    "    if usa_dict['framework_programme'] == 'H2020':\n",
    "        usa_h2020.append(usa_dict)\n"
   ]
  },
  {
   "cell_type": "markdown",
   "metadata": {},
   "source": [
    "<p>\n",
    "<ul>\n",
    "<li>usa fp4: 39427 projects</li>\n",
    "<li>usa fp5: 40210 projects</li>\n",
    "<li>usa fp6: 55006 projects</li>\n",
    "<li>usa fp7: 88668 projects</li>\n",
    "<li>usa h2020: 35795 projects</li>\n",
    "</ul>\n",
    "</p>"
   ]
  },
  {
   "cell_type": "code",
   "execution_count": 4,
   "metadata": {
    "collapsed": false
   },
   "outputs": [],
   "source": [
    "df_fp4 = pd.DataFrame(usa_fp4)\n",
    "df_fp5 = pd.DataFrame(usa_fp5)\n",
    "df_fp6 = pd.DataFrame(usa_fp6)\n",
    "df_fp7 = pd.DataFrame(usa_fp7)\n",
    "df_h2020 = pd.DataFrame(usa_h2020)\n",
    "\n",
    "# dfUSA.to_csv(\"usa_data.csv\", sep = ';')"
   ]
  },
  {
   "cell_type": "code",
   "execution_count": 5,
   "metadata": {
    "collapsed": false
   },
   "outputs": [
    {
     "data": {
      "text/plain": [
       "Index([u'framework_programme', u'id', u'objective', u'state', u'subjects',\n",
       "       u'title'],\n",
       "      dtype='object')"
      ]
     },
     "execution_count": 5,
     "metadata": {},
     "output_type": "execute_result"
    }
   ],
   "source": [
    "df_h2020.columns"
   ]
  },
  {
   "cell_type": "code",
   "execution_count": 6,
   "metadata": {
    "collapsed": true
   },
   "outputs": [],
   "source": [
    "df_fp4.to_pickle('usaFP4')\n",
    "df_fp5.to_pickle('usaFP5')\n",
    "df_fp6.to_pickle('usaFP6')\n",
    "df_fp7.to_pickle('usaFP7')\n",
    "df_h2020.to_pickle('usaH2020')"
   ]
  },
  {
   "cell_type": "code",
   "execution_count": null,
   "metadata": {
    "collapsed": true
   },
   "outputs": [],
   "source": []
  }
 ],
 "metadata": {
  "kernelspec": {
   "display_name": "Python 2",
   "language": "python",
   "name": "python2"
  },
  "language_info": {
   "codemirror_mode": {
    "name": "ipython",
    "version": 2
   },
   "file_extension": ".py",
   "mimetype": "text/x-python",
   "name": "python",
   "nbconvert_exporter": "python",
   "pygments_lexer": "ipython2",
   "version": "2.7.6"
  }
 },
 "nbformat": 4,
 "nbformat_minor": 1
}
